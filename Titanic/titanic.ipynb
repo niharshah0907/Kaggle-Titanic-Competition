{
 "cells": [
  {
   "cell_type": "markdown",
   "metadata": {
    "papermill": {
     "duration": 0.033299,
     "end_time": "2021-01-15T10:18:16.035083",
     "exception": false,
     "start_time": "2021-01-15T10:18:16.001784",
     "status": "completed"
    },
    "tags": []
   },
   "source": [
    "# Logistic Regression on the Titanic Dataset"
   ]
  },
  {
   "cell_type": "markdown",
   "metadata": {
    "papermill": {
     "duration": 0.031427,
     "end_time": "2021-01-15T10:18:16.098896",
     "exception": false,
     "start_time": "2021-01-15T10:18:16.067469",
     "status": "completed"
    },
    "tags": []
   },
   "source": [
    "## 1) Import Libraries"
   ]
  },
  {
   "cell_type": "code",
   "execution_count": 1,
   "metadata": {
    "_cell_guid": "b1076dfc-b9ad-4769-8c92-a6c4dae69d19",
    "_uuid": "8f2839f25d086af736a60e9eeb907d3b93b6e0e5",
    "execution": {
     "iopub.execute_input": "2021-01-15T10:18:16.167219Z",
     "iopub.status.busy": "2021-01-15T10:18:16.166565Z",
     "iopub.status.idle": "2021-01-15T10:18:17.095951Z",
     "shell.execute_reply": "2021-01-15T10:18:17.096844Z"
    },
    "papermill": {
     "duration": 0.965756,
     "end_time": "2021-01-15T10:18:17.097091",
     "exception": false,
     "start_time": "2021-01-15T10:18:16.131335",
     "status": "completed"
    },
    "tags": []
   },
   "outputs": [
    {
     "name": "stdout",
     "output_type": "stream",
     "text": [
      "/kaggle/input/titanic/train.csv\n",
      "/kaggle/input/titanic/test.csv\n",
      "/kaggle/input/titanic/gender_submission.csv\n"
     ]
    }
   ],
   "source": [
    "import numpy as np\n",
    "import pandas as pd\n",
    "import matplotlib.pyplot as plt\n",
    "import seaborn as sns\n",
    "%matplotlib inline\n",
    "\n",
    "import os\n",
    "for dirname, _, filenames in os.walk('/kaggle/input'):\n",
    "    for filename in filenames:\n",
    "        print(os.path.join(dirname, filename))"
   ]
  },
  {
   "cell_type": "code",
   "execution_count": 2,
   "metadata": {
    "_cell_guid": "79c7e3d0-c299-4dcb-8224-4455121ee9b0",
    "_uuid": "d629ff2d2480ee46fbb7e2d37f6b5fab8052498a",
    "execution": {
     "iopub.execute_input": "2021-01-15T10:18:17.168204Z",
     "iopub.status.busy": "2021-01-15T10:18:17.167655Z",
     "iopub.status.idle": "2021-01-15T10:18:17.185092Z",
     "shell.execute_reply": "2021-01-15T10:18:17.185678Z"
    },
    "papermill": {
     "duration": 0.053353,
     "end_time": "2021-01-15T10:18:17.185814",
     "exception": false,
     "start_time": "2021-01-15T10:18:17.132461",
     "status": "completed"
    },
    "tags": []
   },
   "outputs": [],
   "source": [
    "train = pd.read_csv('../input/titanic/train.csv')"
   ]
  },
  {
   "cell_type": "code",
   "execution_count": 3,
   "metadata": {
    "execution": {
     "iopub.execute_input": "2021-01-15T10:18:17.253705Z",
     "iopub.status.busy": "2021-01-15T10:18:17.253168Z",
     "iopub.status.idle": "2021-01-15T10:18:17.278080Z",
     "shell.execute_reply": "2021-01-15T10:18:17.278568Z"
    },
    "papermill": {
     "duration": 0.060023,
     "end_time": "2021-01-15T10:18:17.278686",
     "exception": false,
     "start_time": "2021-01-15T10:18:17.218663",
     "status": "completed"
    },
    "tags": []
   },
   "outputs": [
    {
     "data": {
      "text/html": [
       "<div>\n",
       "<style scoped>\n",
       "    .dataframe tbody tr th:only-of-type {\n",
       "        vertical-align: middle;\n",
       "    }\n",
       "\n",
       "    .dataframe tbody tr th {\n",
       "        vertical-align: top;\n",
       "    }\n",
       "\n",
       "    .dataframe thead th {\n",
       "        text-align: right;\n",
       "    }\n",
       "</style>\n",
       "<table border=\"1\" class=\"dataframe\">\n",
       "  <thead>\n",
       "    <tr style=\"text-align: right;\">\n",
       "      <th></th>\n",
       "      <th>PassengerId</th>\n",
       "      <th>Survived</th>\n",
       "      <th>Pclass</th>\n",
       "      <th>Name</th>\n",
       "      <th>Sex</th>\n",
       "      <th>Age</th>\n",
       "      <th>SibSp</th>\n",
       "      <th>Parch</th>\n",
       "      <th>Ticket</th>\n",
       "      <th>Fare</th>\n",
       "      <th>Cabin</th>\n",
       "      <th>Embarked</th>\n",
       "    </tr>\n",
       "  </thead>\n",
       "  <tbody>\n",
       "    <tr>\n",
       "      <th>0</th>\n",
       "      <td>1</td>\n",
       "      <td>0</td>\n",
       "      <td>3</td>\n",
       "      <td>Braund, Mr. Owen Harris</td>\n",
       "      <td>male</td>\n",
       "      <td>22.0</td>\n",
       "      <td>1</td>\n",
       "      <td>0</td>\n",
       "      <td>A/5 21171</td>\n",
       "      <td>7.2500</td>\n",
       "      <td>NaN</td>\n",
       "      <td>S</td>\n",
       "    </tr>\n",
       "    <tr>\n",
       "      <th>1</th>\n",
       "      <td>2</td>\n",
       "      <td>1</td>\n",
       "      <td>1</td>\n",
       "      <td>Cumings, Mrs. John Bradley (Florence Briggs Th...</td>\n",
       "      <td>female</td>\n",
       "      <td>38.0</td>\n",
       "      <td>1</td>\n",
       "      <td>0</td>\n",
       "      <td>PC 17599</td>\n",
       "      <td>71.2833</td>\n",
       "      <td>C85</td>\n",
       "      <td>C</td>\n",
       "    </tr>\n",
       "    <tr>\n",
       "      <th>2</th>\n",
       "      <td>3</td>\n",
       "      <td>1</td>\n",
       "      <td>3</td>\n",
       "      <td>Heikkinen, Miss. Laina</td>\n",
       "      <td>female</td>\n",
       "      <td>26.0</td>\n",
       "      <td>0</td>\n",
       "      <td>0</td>\n",
       "      <td>STON/O2. 3101282</td>\n",
       "      <td>7.9250</td>\n",
       "      <td>NaN</td>\n",
       "      <td>S</td>\n",
       "    </tr>\n",
       "    <tr>\n",
       "      <th>3</th>\n",
       "      <td>4</td>\n",
       "      <td>1</td>\n",
       "      <td>1</td>\n",
       "      <td>Futrelle, Mrs. Jacques Heath (Lily May Peel)</td>\n",
       "      <td>female</td>\n",
       "      <td>35.0</td>\n",
       "      <td>1</td>\n",
       "      <td>0</td>\n",
       "      <td>113803</td>\n",
       "      <td>53.1000</td>\n",
       "      <td>C123</td>\n",
       "      <td>S</td>\n",
       "    </tr>\n",
       "    <tr>\n",
       "      <th>4</th>\n",
       "      <td>5</td>\n",
       "      <td>0</td>\n",
       "      <td>3</td>\n",
       "      <td>Allen, Mr. William Henry</td>\n",
       "      <td>male</td>\n",
       "      <td>35.0</td>\n",
       "      <td>0</td>\n",
       "      <td>0</td>\n",
       "      <td>373450</td>\n",
       "      <td>8.0500</td>\n",
       "      <td>NaN</td>\n",
       "      <td>S</td>\n",
       "    </tr>\n",
       "  </tbody>\n",
       "</table>\n",
       "</div>"
      ],
      "text/plain": [
       "   PassengerId  Survived  Pclass  \\\n",
       "0            1         0       3   \n",
       "1            2         1       1   \n",
       "2            3         1       3   \n",
       "3            4         1       1   \n",
       "4            5         0       3   \n",
       "\n",
       "                                                Name     Sex   Age  SibSp  \\\n",
       "0                            Braund, Mr. Owen Harris    male  22.0      1   \n",
       "1  Cumings, Mrs. John Bradley (Florence Briggs Th...  female  38.0      1   \n",
       "2                             Heikkinen, Miss. Laina  female  26.0      0   \n",
       "3       Futrelle, Mrs. Jacques Heath (Lily May Peel)  female  35.0      1   \n",
       "4                           Allen, Mr. William Henry    male  35.0      0   \n",
       "\n",
       "   Parch            Ticket     Fare Cabin Embarked  \n",
       "0      0         A/5 21171   7.2500   NaN        S  \n",
       "1      0          PC 17599  71.2833   C85        C  \n",
       "2      0  STON/O2. 3101282   7.9250   NaN        S  \n",
       "3      0            113803  53.1000  C123        S  \n",
       "4      0            373450   8.0500   NaN        S  "
      ]
     },
     "execution_count": 3,
     "metadata": {},
     "output_type": "execute_result"
    }
   ],
   "source": [
    "train.head()"
   ]
  },
  {
   "cell_type": "markdown",
   "metadata": {
    "papermill": {
     "duration": 0.032997,
     "end_time": "2021-01-15T10:18:17.345002",
     "exception": false,
     "start_time": "2021-01-15T10:18:17.312005",
     "status": "completed"
    },
    "tags": []
   },
   "source": [
    "## 2) Exploratory Data Analysis"
   ]
  },
  {
   "cell_type": "code",
   "execution_count": 4,
   "metadata": {
    "execution": {
     "iopub.execute_input": "2021-01-15T10:18:17.413628Z",
     "iopub.status.busy": "2021-01-15T10:18:17.413080Z",
     "iopub.status.idle": "2021-01-15T10:18:17.429426Z",
     "shell.execute_reply": "2021-01-15T10:18:17.429916Z"
    },
    "papermill": {
     "duration": 0.051757,
     "end_time": "2021-01-15T10:18:17.430050",
     "exception": false,
     "start_time": "2021-01-15T10:18:17.378293",
     "status": "completed"
    },
    "tags": []
   },
   "outputs": [
    {
     "data": {
      "text/html": [
       "<div>\n",
       "<style scoped>\n",
       "    .dataframe tbody tr th:only-of-type {\n",
       "        vertical-align: middle;\n",
       "    }\n",
       "\n",
       "    .dataframe tbody tr th {\n",
       "        vertical-align: top;\n",
       "    }\n",
       "\n",
       "    .dataframe thead th {\n",
       "        text-align: right;\n",
       "    }\n",
       "</style>\n",
       "<table border=\"1\" class=\"dataframe\">\n",
       "  <thead>\n",
       "    <tr style=\"text-align: right;\">\n",
       "      <th></th>\n",
       "      <th>PassengerId</th>\n",
       "      <th>Survived</th>\n",
       "      <th>Pclass</th>\n",
       "      <th>Name</th>\n",
       "      <th>Sex</th>\n",
       "      <th>Age</th>\n",
       "      <th>SibSp</th>\n",
       "      <th>Parch</th>\n",
       "      <th>Ticket</th>\n",
       "      <th>Fare</th>\n",
       "      <th>Cabin</th>\n",
       "      <th>Embarked</th>\n",
       "    </tr>\n",
       "  </thead>\n",
       "  <tbody>\n",
       "    <tr>\n",
       "      <th>0</th>\n",
       "      <td>False</td>\n",
       "      <td>False</td>\n",
       "      <td>False</td>\n",
       "      <td>False</td>\n",
       "      <td>False</td>\n",
       "      <td>False</td>\n",
       "      <td>False</td>\n",
       "      <td>False</td>\n",
       "      <td>False</td>\n",
       "      <td>False</td>\n",
       "      <td>True</td>\n",
       "      <td>False</td>\n",
       "    </tr>\n",
       "    <tr>\n",
       "      <th>1</th>\n",
       "      <td>False</td>\n",
       "      <td>False</td>\n",
       "      <td>False</td>\n",
       "      <td>False</td>\n",
       "      <td>False</td>\n",
       "      <td>False</td>\n",
       "      <td>False</td>\n",
       "      <td>False</td>\n",
       "      <td>False</td>\n",
       "      <td>False</td>\n",
       "      <td>False</td>\n",
       "      <td>False</td>\n",
       "    </tr>\n",
       "    <tr>\n",
       "      <th>2</th>\n",
       "      <td>False</td>\n",
       "      <td>False</td>\n",
       "      <td>False</td>\n",
       "      <td>False</td>\n",
       "      <td>False</td>\n",
       "      <td>False</td>\n",
       "      <td>False</td>\n",
       "      <td>False</td>\n",
       "      <td>False</td>\n",
       "      <td>False</td>\n",
       "      <td>True</td>\n",
       "      <td>False</td>\n",
       "    </tr>\n",
       "    <tr>\n",
       "      <th>3</th>\n",
       "      <td>False</td>\n",
       "      <td>False</td>\n",
       "      <td>False</td>\n",
       "      <td>False</td>\n",
       "      <td>False</td>\n",
       "      <td>False</td>\n",
       "      <td>False</td>\n",
       "      <td>False</td>\n",
       "      <td>False</td>\n",
       "      <td>False</td>\n",
       "      <td>False</td>\n",
       "      <td>False</td>\n",
       "    </tr>\n",
       "    <tr>\n",
       "      <th>4</th>\n",
       "      <td>False</td>\n",
       "      <td>False</td>\n",
       "      <td>False</td>\n",
       "      <td>False</td>\n",
       "      <td>False</td>\n",
       "      <td>False</td>\n",
       "      <td>False</td>\n",
       "      <td>False</td>\n",
       "      <td>False</td>\n",
       "      <td>False</td>\n",
       "      <td>True</td>\n",
       "      <td>False</td>\n",
       "    </tr>\n",
       "  </tbody>\n",
       "</table>\n",
       "</div>"
      ],
      "text/plain": [
       "   PassengerId  Survived  Pclass   Name    Sex    Age  SibSp  Parch  Ticket  \\\n",
       "0        False     False   False  False  False  False  False  False   False   \n",
       "1        False     False   False  False  False  False  False  False   False   \n",
       "2        False     False   False  False  False  False  False  False   False   \n",
       "3        False     False   False  False  False  False  False  False   False   \n",
       "4        False     False   False  False  False  False  False  False   False   \n",
       "\n",
       "    Fare  Cabin  Embarked  \n",
       "0  False   True     False  \n",
       "1  False  False     False  \n",
       "2  False   True     False  \n",
       "3  False  False     False  \n",
       "4  False   True     False  "
      ]
     },
     "execution_count": 4,
     "metadata": {},
     "output_type": "execute_result"
    }
   ],
   "source": [
    "train.isnull().head()"
   ]
  },
  {
   "cell_type": "code",
   "execution_count": 5,
   "metadata": {
    "execution": {
     "iopub.execute_input": "2021-01-15T10:18:17.500246Z",
     "iopub.status.busy": "2021-01-15T10:18:17.499647Z",
     "iopub.status.idle": "2021-01-15T10:18:17.682187Z",
     "shell.execute_reply": "2021-01-15T10:18:17.682718Z"
    },
    "papermill": {
     "duration": 0.218844,
     "end_time": "2021-01-15T10:18:17.682856",
     "exception": false,
     "start_time": "2021-01-15T10:18:17.464012",
     "status": "completed"
    },
    "tags": []
   },
   "outputs": [
    {
     "data": {
      "text/plain": [
       "<matplotlib.axes._subplots.AxesSubplot at 0x7fb2984cf150>"
      ]
     },
     "execution_count": 5,
     "metadata": {},
     "output_type": "execute_result"
    },
    {
     "data": {
      "image/png": "[encoded data removed]",
      "text/plain": [
       "<Figure size 432x288 with 1 Axes>"
      ]
     },
     "metadata": {
      "needs_background": "light"
     },
     "output_type": "display_data"
    }
   ],
   "source": [
    "sns.heatmap(train.isnull(),yticklabels=False,cbar=False,cmap='viridis')"
   ]
  },
  {
   "cell_type": "markdown",
   "metadata": {
    "papermill": {
     "duration": 0.034107,
     "end_time": "2021-01-15T10:18:17.751712",
     "exception": false,
     "start_time": "2021-01-15T10:18:17.717605",
     "status": "completed"
    },
    "tags": []
   },
   "source": [
    "As we can see we are mising some information on age, cabin and embarked"
   ]
  },
  {
   "cell_type": "code",
   "execution_count": 6,
   "metadata": {
    "execution": {
     "iopub.execute_input": "2021-01-15T10:18:17.834504Z",
     "iopub.status.busy": "2021-01-15T10:18:17.827397Z",
     "iopub.status.idle": "2021-01-15T10:18:17.945847Z",
     "shell.execute_reply": "2021-01-15T10:18:17.945321Z"
    },
    "papermill": {
     "duration": 0.159151,
     "end_time": "2021-01-15T10:18:17.945949",
     "exception": false,
     "start_time": "2021-01-15T10:18:17.786798",
     "status": "completed"
    },
    "tags": []
   },
   "outputs": [
    {
     "data": {
      "text/plain": [
       "<matplotlib.axes._subplots.AxesSubplot at 0x7fb2982f3b10>"
      ]
     },
     "execution_count": 6,
     "metadata": {},
     "output_type": "execute_result"
    },
    {
     "data": {
      "image/png": "[encoded data removed]",
      "text/plain": [
       "<Figure size 432x288 with 1 Axes>"
      ]
     },
     "metadata": {},
     "output_type": "display_data"
    }
   ],
   "source": [
    "sns.set_style('whitegrid')\n",
    "sns.countplot(x='Survived',data=train)"
   ]
  },
  {
   "cell_type": "code",
   "execution_count": 7,
   "metadata": {
    "execution": {
     "iopub.execute_input": "2021-01-15T10:18:18.026040Z",
     "iopub.status.busy": "2021-01-15T10:18:18.025080Z",
     "iopub.status.idle": "2021-01-15T10:18:18.162867Z",
     "shell.execute_reply": "2021-01-15T10:18:18.162361Z"
    },
    "papermill": {
     "duration": 0.180546,
     "end_time": "2021-01-15T10:18:18.162968",
     "exception": false,
     "start_time": "2021-01-15T10:18:17.982422",
     "status": "completed"
    },
    "tags": []
   },
   "outputs": [
    {
     "data": {
      "text/plain": [
       "<matplotlib.axes._subplots.AxesSubplot at 0x7fb298263ed0>"
      ]
     },
     "execution_count": 7,
     "metadata": {},
     "output_type": "execute_result"
    },
    {
     "data": {
      "image/png": "[encoded data removed]",
      "text/plain": [
       "<Figure size 432x288 with 1 Axes>"
      ]
     },
     "metadata": {},
     "output_type": "display_data"
    }
   ],
   "source": [
    "sns.countplot(x='Survived',data=train,hue='Sex',palette='RdBu_r')"
   ]
  },
  {
   "cell_type": "markdown",
   "metadata": {
    "papermill": {
     "duration": 0.037275,
     "end_time": "2021-01-15T10:18:18.236660",
     "exception": false,
     "start_time": "2021-01-15T10:18:18.199385",
     "status": "completed"
    },
    "tags": []
   },
   "source": [
    "It looks like people that did not survive were much more likely to be men. While those who survived were likely to be female."
   ]
  },
  {
   "cell_type": "code",
   "execution_count": 8,
   "metadata": {
    "execution": {
     "iopub.execute_input": "2021-01-15T10:18:18.315759Z",
     "iopub.status.busy": "2021-01-15T10:18:18.315151Z",
     "iopub.status.idle": "2021-01-15T10:18:18.485896Z",
     "shell.execute_reply": "2021-01-15T10:18:18.484972Z"
    },
    "papermill": {
     "duration": 0.212299,
     "end_time": "2021-01-15T10:18:18.485998",
     "exception": false,
     "start_time": "2021-01-15T10:18:18.273699",
     "status": "completed"
    },
    "tags": []
   },
   "outputs": [
    {
     "data": {
      "text/plain": [
       "<matplotlib.axes._subplots.AxesSubplot at 0x7fb298212b90>"
      ]
     },
     "execution_count": 8,
     "metadata": {},
     "output_type": "execute_result"
    },
    {
     "data": {
      "image/png": "[encoded data removed]",
      "text/plain": [
       "<Figure size 432x288 with 1 Axes>"
      ]
     },
     "metadata": {},
     "output_type": "display_data"
    }
   ],
   "source": [
    "sns.countplot(x='Survived',data=train,hue='Pclass')"
   ]
  },
  {
   "cell_type": "markdown",
   "metadata": {
    "papermill": {
     "duration": 0.039834,
     "end_time": "2021-01-15T10:18:18.564196",
     "exception": false,
     "start_time": "2021-01-15T10:18:18.524362",
     "status": "completed"
    },
    "tags": []
   },
   "source": [
    "Also it looks like the people who did not survive were mostly part of 3rd class. People that did survive were from the higher classes."
   ]
  },
  {
   "cell_type": "code",
   "execution_count": 9,
   "metadata": {
    "execution": {
     "iopub.execute_input": "2021-01-15T10:18:18.646015Z",
     "iopub.status.busy": "2021-01-15T10:18:18.645427Z",
     "iopub.status.idle": "2021-01-15T10:18:18.961703Z",
     "shell.execute_reply": "2021-01-15T10:18:18.961196Z"
    },
    "papermill": {
     "duration": 0.359385,
     "end_time": "2021-01-15T10:18:18.961808",
     "exception": false,
     "start_time": "2021-01-15T10:18:18.602423",
     "status": "completed"
    },
    "tags": []
   },
   "outputs": [
    {
     "data": {
      "text/plain": [
       "<matplotlib.axes._subplots.AxesSubplot at 0x7fb2981e3350>"
      ]
     },
     "execution_count": 9,
     "metadata": {},
     "output_type": "execute_result"
    },
    {
     "data": {
      "image/png": "[encoded data removed]",
      "text/plain": [
       "<Figure size 432x288 with 1 Axes>"
      ]
     },
     "metadata": {},
     "output_type": "display_data"
    }
   ],
   "source": [
    "sns.distplot(train['Age'].dropna(),bins=30,kde=False)"
   ]
  },
  {
   "cell_type": "code",
   "execution_count": 10,
   "metadata": {
    "execution": {
     "iopub.execute_input": "2021-01-15T10:18:19.047209Z",
     "iopub.status.busy": "2021-01-15T10:18:19.044413Z",
     "iopub.status.idle": "2021-01-15T10:18:19.307319Z",
     "shell.execute_reply": "2021-01-15T10:18:19.306482Z"
    },
    "papermill": {
     "duration": 0.307235,
     "end_time": "2021-01-15T10:18:19.307493",
     "exception": false,
     "start_time": "2021-01-15T10:18:19.000258",
     "status": "completed"
    },
    "tags": []
   },
   "outputs": [
    {
     "data": {
      "text/plain": [
       "<matplotlib.axes._subplots.AxesSubplot at 0x7fb298027d90>"
      ]
     },
     "execution_count": 10,
     "metadata": {},
     "output_type": "execute_result"
    },
    {
     "data": {
      "image/png": "[encoded data removed]",
      "text/plain": [
       "<Figure size 432x288 with 1 Axes>"
      ]
     },
     "metadata": {},
     "output_type": "display_data"
    }
   ],
   "source": [
    "sns.countplot(x='SibSp',data=train)"
   ]
  },
  {
   "cell_type": "code",
   "execution_count": 11,
   "metadata": {
    "execution": {
     "iopub.execute_input": "2021-01-15T10:18:19.404562Z",
     "iopub.status.busy": "2021-01-15T10:18:19.403819Z",
     "iopub.status.idle": "2021-01-15T10:18:19.744454Z",
     "shell.execute_reply": "2021-01-15T10:18:19.743815Z"
    },
    "papermill": {
     "duration": 0.386546,
     "end_time": "2021-01-15T10:18:19.744642",
     "exception": false,
     "start_time": "2021-01-15T10:18:19.358096",
     "status": "completed"
    },
    "tags": []
   },
   "outputs": [
    {
     "data": {
      "text/plain": [
       "<matplotlib.axes._subplots.AxesSubplot at 0x7fb291fa6950>"
      ]
     },
     "execution_count": 11,
     "metadata": {},
     "output_type": "execute_result"
    },
    {
     "data": {
      "image/png": "[encoded data removed]",
      "text/plain": [
       "<Figure size 720x288 with 1 Axes>"
      ]
     },
     "metadata": {},
     "output_type": "display_data"
    }
   ],
   "source": [
    "train['Fare'].hist(bins=40,figsize=(10,4))"
   ]
  },
  {
   "cell_type": "markdown",
   "metadata": {
    "papermill": {
     "duration": 0.041915,
     "end_time": "2021-01-15T10:18:19.832841",
     "exception": false,
     "start_time": "2021-01-15T10:18:19.790926",
     "status": "completed"
    },
    "tags": []
   },
   "source": [
    "## 3) Cleansing Data"
   ]
  },
  {
   "cell_type": "markdown",
   "metadata": {
    "papermill": {
     "duration": 0.041969,
     "end_time": "2021-01-15T10:18:19.918244",
     "exception": false,
     "start_time": "2021-01-15T10:18:19.876275",
     "status": "completed"
    },
    "tags": []
   },
   "source": [
    "As we have seen that there are mising data, we need to clean our data so that we can train out model."
   ]
  },
  {
   "cell_type": "code",
   "execution_count": 12,
   "metadata": {
    "execution": {
     "iopub.execute_input": "2021-01-15T10:18:20.013342Z",
     "iopub.status.busy": "2021-01-15T10:18:20.008426Z",
     "iopub.status.idle": "2021-01-15T10:18:20.190597Z",
     "shell.execute_reply": "2021-01-15T10:18:20.191052Z"
    },
    "papermill": {
     "duration": 0.230356,
     "end_time": "2021-01-15T10:18:20.191219",
     "exception": false,
     "start_time": "2021-01-15T10:18:19.960863",
     "status": "completed"
    },
    "tags": []
   },
   "outputs": [
    {
     "data": {
      "text/plain": [
       "<matplotlib.axes._subplots.AxesSubplot at 0x7fb291f61390>"
      ]
     },
     "execution_count": 12,
     "metadata": {},
     "output_type": "execute_result"
    },
    {
     "data": {
      "image/png": "[encoded data removed]",
      "text/plain": [
       "<Figure size 720x504 with 1 Axes>"
      ]
     },
     "metadata": {},
     "output_type": "display_data"
    }
   ],
   "source": [
    "plt.figure(figsize=(10,7))\n",
    "sns.boxplot(x='Pclass',y='Age',data=train)"
   ]
  },
  {
   "cell_type": "code",
   "execution_count": 13,
   "metadata": {
    "execution": {
     "iopub.execute_input": "2021-01-15T10:18:20.288061Z",
     "iopub.status.busy": "2021-01-15T10:18:20.282914Z",
     "iopub.status.idle": "2021-01-15T10:18:20.291791Z",
     "shell.execute_reply": "2021-01-15T10:18:20.291274Z"
    },
    "papermill": {
     "duration": 0.058587,
     "end_time": "2021-01-15T10:18:20.291881",
     "exception": false,
     "start_time": "2021-01-15T10:18:20.233294",
     "status": "completed"
    },
    "tags": []
   },
   "outputs": [
    {
     "data": {
      "text/plain": [
       "Pclass\n",
       "1    38.0\n",
       "2    30.0\n",
       "3    25.0\n",
       "Name: Age, dtype: float64"
      ]
     },
     "execution_count": 13,
     "metadata": {},
     "output_type": "execute_result"
    }
   ],
   "source": [
    "train.groupby('Pclass').mean()['Age'].round()"
   ]
  },
  {
   "cell_type": "code",
   "execution_count": 14,
   "metadata": {
    "execution": {
     "iopub.execute_input": "2021-01-15T10:18:20.385076Z",
     "iopub.status.busy": "2021-01-15T10:18:20.384394Z",
     "iopub.status.idle": "2021-01-15T10:18:20.392519Z",
     "shell.execute_reply": "2021-01-15T10:18:20.392926Z"
    },
    "papermill": {
     "duration": 0.058024,
     "end_time": "2021-01-15T10:18:20.393048",
     "exception": false,
     "start_time": "2021-01-15T10:18:20.335024",
     "status": "completed"
    },
    "tags": []
   },
   "outputs": [],
   "source": [
    "mean_class1 = train.groupby('Pclass').mean()['Age'].round().loc[1]\n",
    "mean_class2 = train.groupby('Pclass').mean()['Age'].round().loc[2]\n",
    "mean_class3 = train.groupby('Pclass').mean()['Age'].round().loc[3]"
   ]
  },
  {
   "cell_type": "code",
   "execution_count": 15,
   "metadata": {
    "execution": {
     "iopub.execute_input": "2021-01-15T10:18:20.486354Z",
     "iopub.status.busy": "2021-01-15T10:18:20.485444Z",
     "iopub.status.idle": "2021-01-15T10:18:20.497298Z",
     "shell.execute_reply": "2021-01-15T10:18:20.496733Z"
    },
    "papermill": {
     "duration": 0.05734,
     "end_time": "2021-01-15T10:18:20.497390",
     "exception": false,
     "start_time": "2021-01-15T10:18:20.440050",
     "status": "completed"
    },
    "tags": []
   },
   "outputs": [],
   "source": [
    "train.loc[train['Pclass']==1,'Age'] = train.loc[train['Pclass']==1,'Age'].fillna(value=mean_class1)\n",
    "train.loc[train['Pclass']==2,'Age'] = train.loc[train['Pclass']==2,'Age'].fillna(value=mean_class2)\n",
    "train.loc[train['Pclass']==3,'Age'] = train.loc[train['Pclass']==3,'Age'].fillna(value=mean_class3)"
   ]
  },
  {
   "cell_type": "code",
   "execution_count": 16,
   "metadata": {
    "execution": {
     "iopub.execute_input": "2021-01-15T10:18:20.596283Z",
     "iopub.status.busy": "2021-01-15T10:18:20.591555Z",
     "iopub.status.idle": "2021-01-15T10:18:20.763819Z",
     "shell.execute_reply": "2021-01-15T10:18:20.764278Z"
    },
    "papermill": {
     "duration": 0.223739,
     "end_time": "2021-01-15T10:18:20.764421",
     "exception": false,
     "start_time": "2021-01-15T10:18:20.540682",
     "status": "completed"
    },
    "tags": []
   },
   "outputs": [
    {
     "data": {
      "text/plain": [
       "<matplotlib.axes._subplots.AxesSubplot at 0x7fb291e1fd90>"
      ]
     },
     "execution_count": 16,
     "metadata": {},
     "output_type": "execute_result"
    },
    {
     "data": {
      "image/png": "[encoded data removed]",
      "text/plain": [
       "<Figure size 432x288 with 1 Axes>"
      ]
     },
     "metadata": {},
     "output_type": "display_data"
    }
   ],
   "source": [
    "sns.heatmap(train.isnull(),yticklabels=False,cbar=False,cmap='viridis')"
   ]
  },
  {
   "cell_type": "markdown",
   "metadata": {
    "papermill": {
     "duration": 0.044142,
     "end_time": "2021-01-15T10:18:20.854190",
     "exception": false,
     "start_time": "2021-01-15T10:18:20.810048",
     "status": "completed"
    },
    "tags": []
   },
   "source": [
    "Have to drop column 'Cabin' as there is too much missing information"
   ]
  },
  {
   "cell_type": "code",
   "execution_count": 17,
   "metadata": {
    "execution": {
     "iopub.execute_input": "2021-01-15T10:18:20.948132Z",
     "iopub.status.busy": "2021-01-15T10:18:20.947384Z",
     "iopub.status.idle": "2021-01-15T10:18:20.949338Z",
     "shell.execute_reply": "2021-01-15T10:18:20.949828Z"
    },
    "papermill": {
     "duration": 0.052167,
     "end_time": "2021-01-15T10:18:20.949960",
     "exception": false,
     "start_time": "2021-01-15T10:18:20.897793",
     "status": "completed"
    },
    "tags": []
   },
   "outputs": [],
   "source": [
    "train.drop('Cabin',axis=1,inplace=True)"
   ]
  },
  {
   "cell_type": "code",
   "execution_count": 18,
   "metadata": {
    "execution": {
     "iopub.execute_input": "2021-01-15T10:18:21.042324Z",
     "iopub.status.busy": "2021-01-15T10:18:21.041705Z",
     "iopub.status.idle": "2021-01-15T10:18:21.051635Z",
     "shell.execute_reply": "2021-01-15T10:18:21.052174Z"
    },
    "papermill": {
     "duration": 0.057545,
     "end_time": "2021-01-15T10:18:21.052305",
     "exception": false,
     "start_time": "2021-01-15T10:18:20.994760",
     "status": "completed"
    },
    "tags": []
   },
   "outputs": [],
   "source": [
    "train.dropna(inplace=True) # dropping the 1 missing value in Embarked column"
   ]
  },
  {
   "cell_type": "markdown",
   "metadata": {
    "papermill": {
     "duration": 0.054178,
     "end_time": "2021-01-15T10:18:21.158171",
     "exception": false,
     "start_time": "2021-01-15T10:18:21.103993",
     "status": "completed"
    },
    "tags": []
   },
   "source": [
    "Now convering some of the features into variables so that machine learing model can accept it."
   ]
  },
  {
   "cell_type": "code",
   "execution_count": 19,
   "metadata": {
    "execution": {
     "iopub.execute_input": "2021-01-15T10:18:21.266795Z",
     "iopub.status.busy": "2021-01-15T10:18:21.264953Z",
     "iopub.status.idle": "2021-01-15T10:18:21.269406Z",
     "shell.execute_reply": "2021-01-15T10:18:21.268840Z"
    },
    "papermill": {
     "duration": 0.058859,
     "end_time": "2021-01-15T10:18:21.269515",
     "exception": false,
     "start_time": "2021-01-15T10:18:21.210656",
     "status": "completed"
    },
    "tags": []
   },
   "outputs": [],
   "source": [
    "sex = pd.get_dummies(train['Sex'],drop_first=True)\n",
    "embark = pd.get_dummies(train['Embarked'],drop_first=True)"
   ]
  },
  {
   "cell_type": "code",
   "execution_count": 20,
   "metadata": {
    "execution": {
     "iopub.execute_input": "2021-01-15T10:18:21.366630Z",
     "iopub.status.busy": "2021-01-15T10:18:21.365875Z",
     "iopub.status.idle": "2021-01-15T10:18:21.368695Z",
     "shell.execute_reply": "2021-01-15T10:18:21.368163Z"
    },
    "papermill": {
     "duration": 0.053909,
     "end_time": "2021-01-15T10:18:21.368796",
     "exception": false,
     "start_time": "2021-01-15T10:18:21.314887",
     "status": "completed"
    },
    "tags": []
   },
   "outputs": [],
   "source": [
    "train = pd.concat([train,sex,embark],axis=1)"
   ]
  },
  {
   "cell_type": "code",
   "execution_count": 21,
   "metadata": {
    "execution": {
     "iopub.execute_input": "2021-01-15T10:18:21.476268Z",
     "iopub.status.busy": "2021-01-15T10:18:21.465885Z",
     "iopub.status.idle": "2021-01-15T10:18:21.480829Z",
     "shell.execute_reply": "2021-01-15T10:18:21.480327Z"
    },
    "papermill": {
     "duration": 0.065508,
     "end_time": "2021-01-15T10:18:21.480922",
     "exception": false,
     "start_time": "2021-01-15T10:18:21.415414",
     "status": "completed"
    },
    "tags": []
   },
   "outputs": [
    {
     "data": {
      "text/html": [
       "<div>\n",
       "<style scoped>\n",
       "    .dataframe tbody tr th:only-of-type {\n",
       "        vertical-align: middle;\n",
       "    }\n",
       "\n",
       "    .dataframe tbody tr th {\n",
       "        vertical-align: top;\n",
       "    }\n",
       "\n",
       "    .dataframe thead th {\n",
       "        text-align: right;\n",
       "    }\n",
       "</style>\n",
       "<table border=\"1\" class=\"dataframe\">\n",
       "  <thead>\n",
       "    <tr style=\"text-align: right;\">\n",
       "      <th></th>\n",
       "      <th>PassengerId</th>\n",
       "      <th>Survived</th>\n",
       "      <th>Pclass</th>\n",
       "      <th>Name</th>\n",
       "      <th>Sex</th>\n",
       "      <th>Age</th>\n",
       "      <th>SibSp</th>\n",
       "      <th>Parch</th>\n",
       "      <th>Ticket</th>\n",
       "      <th>Fare</th>\n",
       "      <th>Embarked</th>\n",
       "      <th>male</th>\n",
       "      <th>Q</th>\n",
       "      <th>S</th>\n",
       "    </tr>\n",
       "  </thead>\n",
       "  <tbody>\n",
       "    <tr>\n",
       "      <th>0</th>\n",
       "      <td>1</td>\n",
       "      <td>0</td>\n",
       "      <td>3</td>\n",
       "      <td>Braund, Mr. Owen Harris</td>\n",
       "      <td>male</td>\n",
       "      <td>22.0</td>\n",
       "      <td>1</td>\n",
       "      <td>0</td>\n",
       "      <td>A/5 21171</td>\n",
       "      <td>7.2500</td>\n",
       "      <td>S</td>\n",
       "      <td>1</td>\n",
       "      <td>0</td>\n",
       "      <td>1</td>\n",
       "    </tr>\n",
       "    <tr>\n",
       "      <th>1</th>\n",
       "      <td>2</td>\n",
       "      <td>1</td>\n",
       "      <td>1</td>\n",
       "      <td>Cumings, Mrs. John Bradley (Florence Briggs Th...</td>\n",
       "      <td>female</td>\n",
       "      <td>38.0</td>\n",
       "      <td>1</td>\n",
       "      <td>0</td>\n",
       "      <td>PC 17599</td>\n",
       "      <td>71.2833</td>\n",
       "      <td>C</td>\n",
       "      <td>0</td>\n",
       "      <td>0</td>\n",
       "      <td>0</td>\n",
       "    </tr>\n",
       "    <tr>\n",
       "      <th>2</th>\n",
       "      <td>3</td>\n",
       "      <td>1</td>\n",
       "      <td>3</td>\n",
       "      <td>Heikkinen, Miss. Laina</td>\n",
       "      <td>female</td>\n",
       "      <td>26.0</td>\n",
       "      <td>0</td>\n",
       "      <td>0</td>\n",
       "      <td>STON/O2. 3101282</td>\n",
       "      <td>7.9250</td>\n",
       "      <td>S</td>\n",
       "      <td>0</td>\n",
       "      <td>0</td>\n",
       "      <td>1</td>\n",
       "    </tr>\n",
       "    <tr>\n",
       "      <th>3</th>\n",
       "      <td>4</td>\n",
       "      <td>1</td>\n",
       "      <td>1</td>\n",
       "      <td>Futrelle, Mrs. Jacques Heath (Lily May Peel)</td>\n",
       "      <td>female</td>\n",
       "      <td>35.0</td>\n",
       "      <td>1</td>\n",
       "      <td>0</td>\n",
       "      <td>113803</td>\n",
       "      <td>53.1000</td>\n",
       "      <td>S</td>\n",
       "      <td>0</td>\n",
       "      <td>0</td>\n",
       "      <td>1</td>\n",
       "    </tr>\n",
       "    <tr>\n",
       "      <th>4</th>\n",
       "      <td>5</td>\n",
       "      <td>0</td>\n",
       "      <td>3</td>\n",
       "      <td>Allen, Mr. William Henry</td>\n",
       "      <td>male</td>\n",
       "      <td>35.0</td>\n",
       "      <td>0</td>\n",
       "      <td>0</td>\n",
       "      <td>373450</td>\n",
       "      <td>8.0500</td>\n",
       "      <td>S</td>\n",
       "      <td>1</td>\n",
       "      <td>0</td>\n",
       "      <td>1</td>\n",
       "    </tr>\n",
       "  </tbody>\n",
       "</table>\n",
       "</div>"
      ],
      "text/plain": [
       "   PassengerId  Survived  Pclass  \\\n",
       "0            1         0       3   \n",
       "1            2         1       1   \n",
       "2            3         1       3   \n",
       "3            4         1       1   \n",
       "4            5         0       3   \n",
       "\n",
       "                                                Name     Sex   Age  SibSp  \\\n",
       "0                            Braund, Mr. Owen Harris    male  22.0      1   \n",
       "1  Cumings, Mrs. John Bradley (Florence Briggs Th...  female  38.0      1   \n",
       "2                             Heikkinen, Miss. Laina  female  26.0      0   \n",
       "3       Futrelle, Mrs. Jacques Heath (Lily May Peel)  female  35.0      1   \n",
       "4                           Allen, Mr. William Henry    male  35.0      0   \n",
       "\n",
       "   Parch            Ticket     Fare Embarked  male  Q  S  \n",
       "0      0         A/5 21171   7.2500        S     1  0  1  \n",
       "1      0          PC 17599  71.2833        C     0  0  0  \n",
       "2      0  STON/O2. 3101282   7.9250        S     0  0  1  \n",
       "3      0            113803  53.1000        S     0  0  1  \n",
       "4      0            373450   8.0500        S     1  0  1  "
      ]
     },
     "execution_count": 21,
     "metadata": {},
     "output_type": "execute_result"
    }
   ],
   "source": [
    "train.head()"
   ]
  },
  {
   "cell_type": "code",
   "execution_count": 22,
   "metadata": {
    "execution": {
     "iopub.execute_input": "2021-01-15T10:18:21.580337Z",
     "iopub.status.busy": "2021-01-15T10:18:21.579465Z",
     "iopub.status.idle": "2021-01-15T10:18:21.581713Z",
     "shell.execute_reply": "2021-01-15T10:18:21.582262Z"
    },
    "papermill": {
     "duration": 0.055545,
     "end_time": "2021-01-15T10:18:21.582379",
     "exception": false,
     "start_time": "2021-01-15T10:18:21.526834",
     "status": "completed"
    },
    "tags": []
   },
   "outputs": [],
   "source": [
    "train.drop(['Sex','Embarked','Name','Ticket'],axis=1,inplace=True)"
   ]
  },
  {
   "cell_type": "code",
   "execution_count": 23,
   "metadata": {
    "execution": {
     "iopub.execute_input": "2021-01-15T10:18:21.678352Z",
     "iopub.status.busy": "2021-01-15T10:18:21.677733Z",
     "iopub.status.idle": "2021-01-15T10:18:21.680052Z",
     "shell.execute_reply": "2021-01-15T10:18:21.680577Z"
    },
    "papermill": {
     "duration": 0.053629,
     "end_time": "2021-01-15T10:18:21.680706",
     "exception": false,
     "start_time": "2021-01-15T10:18:21.627077",
     "status": "completed"
    },
    "tags": []
   },
   "outputs": [],
   "source": [
    "train.drop('PassengerId',axis=1,inplace=True)"
   ]
  },
  {
   "cell_type": "code",
   "execution_count": 24,
   "metadata": {
    "execution": {
     "iopub.execute_input": "2021-01-15T10:18:21.773643Z",
     "iopub.status.busy": "2021-01-15T10:18:21.773107Z",
     "iopub.status.idle": "2021-01-15T10:18:21.783684Z",
     "shell.execute_reply": "2021-01-15T10:18:21.784131Z"
    },
    "papermill": {
     "duration": 0.058321,
     "end_time": "2021-01-15T10:18:21.784252",
     "exception": false,
     "start_time": "2021-01-15T10:18:21.725931",
     "status": "completed"
    },
    "tags": []
   },
   "outputs": [
    {
     "data": {
      "text/html": [
       "<div>\n",
       "<style scoped>\n",
       "    .dataframe tbody tr th:only-of-type {\n",
       "        vertical-align: middle;\n",
       "    }\n",
       "\n",
       "    .dataframe tbody tr th {\n",
       "        vertical-align: top;\n",
       "    }\n",
       "\n",
       "    .dataframe thead th {\n",
       "        text-align: right;\n",
       "    }\n",
       "</style>\n",
       "<table border=\"1\" class=\"dataframe\">\n",
       "  <thead>\n",
       "    <tr style=\"text-align: right;\">\n",
       "      <th></th>\n",
       "      <th>Survived</th>\n",
       "      <th>Pclass</th>\n",
       "      <th>Age</th>\n",
       "      <th>SibSp</th>\n",
       "      <th>Parch</th>\n",
       "      <th>Fare</th>\n",
       "      <th>male</th>\n",
       "      <th>Q</th>\n",
       "      <th>S</th>\n",
       "    </tr>\n",
       "  </thead>\n",
       "  <tbody>\n",
       "    <tr>\n",
       "      <th>0</th>\n",
       "      <td>0</td>\n",
       "      <td>3</td>\n",
       "      <td>22.0</td>\n",
       "      <td>1</td>\n",
       "      <td>0</td>\n",
       "      <td>7.2500</td>\n",
       "      <td>1</td>\n",
       "      <td>0</td>\n",
       "      <td>1</td>\n",
       "    </tr>\n",
       "    <tr>\n",
       "      <th>1</th>\n",
       "      <td>1</td>\n",
       "      <td>1</td>\n",
       "      <td>38.0</td>\n",
       "      <td>1</td>\n",
       "      <td>0</td>\n",
       "      <td>71.2833</td>\n",
       "      <td>0</td>\n",
       "      <td>0</td>\n",
       "      <td>0</td>\n",
       "    </tr>\n",
       "    <tr>\n",
       "      <th>2</th>\n",
       "      <td>1</td>\n",
       "      <td>3</td>\n",
       "      <td>26.0</td>\n",
       "      <td>0</td>\n",
       "      <td>0</td>\n",
       "      <td>7.9250</td>\n",
       "      <td>0</td>\n",
       "      <td>0</td>\n",
       "      <td>1</td>\n",
       "    </tr>\n",
       "    <tr>\n",
       "      <th>3</th>\n",
       "      <td>1</td>\n",
       "      <td>1</td>\n",
       "      <td>35.0</td>\n",
       "      <td>1</td>\n",
       "      <td>0</td>\n",
       "      <td>53.1000</td>\n",
       "      <td>0</td>\n",
       "      <td>0</td>\n",
       "      <td>1</td>\n",
       "    </tr>\n",
       "    <tr>\n",
       "      <th>4</th>\n",
       "      <td>0</td>\n",
       "      <td>3</td>\n",
       "      <td>35.0</td>\n",
       "      <td>0</td>\n",
       "      <td>0</td>\n",
       "      <td>8.0500</td>\n",
       "      <td>1</td>\n",
       "      <td>0</td>\n",
       "      <td>1</td>\n",
       "    </tr>\n",
       "  </tbody>\n",
       "</table>\n",
       "</div>"
      ],
      "text/plain": [
       "   Survived  Pclass   Age  SibSp  Parch     Fare  male  Q  S\n",
       "0         0       3  22.0      1      0   7.2500     1  0  1\n",
       "1         1       1  38.0      1      0  71.2833     0  0  0\n",
       "2         1       3  26.0      0      0   7.9250     0  0  1\n",
       "3         1       1  35.0      1      0  53.1000     0  0  1\n",
       "4         0       3  35.0      0      0   8.0500     1  0  1"
      ]
     },
     "execution_count": 24,
     "metadata": {},
     "output_type": "execute_result"
    }
   ],
   "source": [
    "train.head()"
   ]
  },
  {
   "cell_type": "markdown",
   "metadata": {
    "papermill": {
     "duration": 0.046919,
     "end_time": "2021-01-15T10:18:21.877868",
     "exception": false,
     "start_time": "2021-01-15T10:18:21.830949",
     "status": "completed"
    },
    "tags": []
   },
   "source": [
    "Performing this above steps on the test dataset"
   ]
  },
  {
   "cell_type": "code",
   "execution_count": 25,
   "metadata": {
    "execution": {
     "iopub.execute_input": "2021-01-15T10:18:21.974133Z",
     "iopub.status.busy": "2021-01-15T10:18:21.973518Z",
     "iopub.status.idle": "2021-01-15T10:18:21.987490Z",
     "shell.execute_reply": "2021-01-15T10:18:21.987958Z"
    },
    "papermill": {
     "duration": 0.063511,
     "end_time": "2021-01-15T10:18:21.988074",
     "exception": false,
     "start_time": "2021-01-15T10:18:21.924563",
     "status": "completed"
    },
    "tags": []
   },
   "outputs": [],
   "source": [
    "test = pd.read_csv('../input/titanic/test.csv')"
   ]
  },
  {
   "cell_type": "code",
   "execution_count": 26,
   "metadata": {
    "execution": {
     "iopub.execute_input": "2021-01-15T10:18:22.084223Z",
     "iopub.status.busy": "2021-01-15T10:18:22.083673Z",
     "iopub.status.idle": "2021-01-15T10:18:22.094163Z",
     "shell.execute_reply": "2021-01-15T10:18:22.094619Z"
    },
    "papermill": {
     "duration": 0.05987,
     "end_time": "2021-01-15T10:18:22.094737",
     "exception": false,
     "start_time": "2021-01-15T10:18:22.034867",
     "status": "completed"
    },
    "tags": []
   },
   "outputs": [],
   "source": [
    "test.loc[test['Pclass']==1,'Age'] = test.loc[test['Pclass']==1,'Age'].fillna(value=mean_class1)\n",
    "test.loc[test['Pclass']==2,'Age'] = test.loc[test['Pclass']==2,'Age'].fillna(value=mean_class2)\n",
    "test.loc[test['Pclass']==3,'Age'] = test.loc[test['Pclass']==3,'Age'].fillna(value=mean_class3)"
   ]
  },
  {
   "cell_type": "code",
   "execution_count": 27,
   "metadata": {
    "execution": {
     "iopub.execute_input": "2021-01-15T10:18:22.188924Z",
     "iopub.status.busy": "2021-01-15T10:18:22.188369Z",
     "iopub.status.idle": "2021-01-15T10:18:22.341753Z",
     "shell.execute_reply": "2021-01-15T10:18:22.342148Z"
    },
    "papermill": {
     "duration": 0.202103,
     "end_time": "2021-01-15T10:18:22.342276",
     "exception": false,
     "start_time": "2021-01-15T10:18:22.140173",
     "status": "completed"
    },
    "tags": []
   },
   "outputs": [
    {
     "data": {
      "text/plain": [
       "<matplotlib.axes._subplots.AxesSubplot at 0x7fb291dcc2d0>"
      ]
     },
     "execution_count": 27,
     "metadata": {},
     "output_type": "execute_result"
    },
    {
     "data": {
      "image/png": "[encoded data removed]",
      "text/plain": [
       "<Figure size 432x288 with 1 Axes>"
      ]
     },
     "metadata": {},
     "output_type": "display_data"
    }
   ],
   "source": [
    "sns.heatmap(test.isnull(),yticklabels=False,cbar=False,cmap='viridis')"
   ]
  },
  {
   "cell_type": "code",
   "execution_count": 28,
   "metadata": {
    "execution": {
     "iopub.execute_input": "2021-01-15T10:18:22.438545Z",
     "iopub.status.busy": "2021-01-15T10:18:22.437964Z",
     "iopub.status.idle": "2021-01-15T10:18:22.442732Z",
     "shell.execute_reply": "2021-01-15T10:18:22.443203Z"
    },
    "papermill": {
     "duration": 0.054552,
     "end_time": "2021-01-15T10:18:22.443321",
     "exception": false,
     "start_time": "2021-01-15T10:18:22.388769",
     "status": "completed"
    },
    "tags": []
   },
   "outputs": [],
   "source": [
    "test.drop('Cabin',axis=1,inplace=True)"
   ]
  },
  {
   "cell_type": "code",
   "execution_count": 29,
   "metadata": {
    "execution": {
     "iopub.execute_input": "2021-01-15T10:18:22.541516Z",
     "iopub.status.busy": "2021-01-15T10:18:22.540926Z",
     "iopub.status.idle": "2021-01-15T10:18:22.546363Z",
     "shell.execute_reply": "2021-01-15T10:18:22.546900Z"
    },
    "papermill": {
     "duration": 0.056042,
     "end_time": "2021-01-15T10:18:22.547029",
     "exception": false,
     "start_time": "2021-01-15T10:18:22.490987",
     "status": "completed"
    },
    "tags": []
   },
   "outputs": [],
   "source": [
    "test.dropna(inplace=True)"
   ]
  },
  {
   "cell_type": "code",
   "execution_count": 30,
   "metadata": {
    "execution": {
     "iopub.execute_input": "2021-01-15T10:18:22.650635Z",
     "iopub.status.busy": "2021-01-15T10:18:22.649958Z",
     "iopub.status.idle": "2021-01-15T10:18:22.655748Z",
     "shell.execute_reply": "2021-01-15T10:18:22.656263Z"
    },
    "papermill": {
     "duration": 0.059773,
     "end_time": "2021-01-15T10:18:22.656393",
     "exception": false,
     "start_time": "2021-01-15T10:18:22.596620",
     "status": "completed"
    },
    "tags": []
   },
   "outputs": [],
   "source": [
    "sex = pd.get_dummies(test['Sex'],drop_first=True)\n",
    "embark = pd.get_dummies(test['Embarked'],drop_first=True)"
   ]
  },
  {
   "cell_type": "code",
   "execution_count": 31,
   "metadata": {
    "execution": {
     "iopub.execute_input": "2021-01-15T10:18:22.756759Z",
     "iopub.status.busy": "2021-01-15T10:18:22.756206Z",
     "iopub.status.idle": "2021-01-15T10:18:22.762131Z",
     "shell.execute_reply": "2021-01-15T10:18:22.762630Z"
    },
    "papermill": {
     "duration": 0.056996,
     "end_time": "2021-01-15T10:18:22.762778",
     "exception": false,
     "start_time": "2021-01-15T10:18:22.705782",
     "status": "completed"
    },
    "tags": []
   },
   "outputs": [],
   "source": [
    "test = pd.concat([test,sex,embark],axis=1)"
   ]
  },
  {
   "cell_type": "code",
   "execution_count": 32,
   "metadata": {
    "execution": {
     "iopub.execute_input": "2021-01-15T10:18:22.862870Z",
     "iopub.status.busy": "2021-01-15T10:18:22.862285Z",
     "iopub.status.idle": "2021-01-15T10:18:22.867762Z",
     "shell.execute_reply": "2021-01-15T10:18:22.868278Z"
    },
    "papermill": {
     "duration": 0.057161,
     "end_time": "2021-01-15T10:18:22.868403",
     "exception": false,
     "start_time": "2021-01-15T10:18:22.811242",
     "status": "completed"
    },
    "tags": []
   },
   "outputs": [],
   "source": [
    "test.drop(['Sex','Embarked','Name','Ticket'],axis=1,inplace=True)"
   ]
  },
  {
   "cell_type": "code",
   "execution_count": 33,
   "metadata": {
    "execution": {
     "iopub.execute_input": "2021-01-15T10:18:22.968217Z",
     "iopub.status.busy": "2021-01-15T10:18:22.967608Z",
     "iopub.status.idle": "2021-01-15T10:18:22.980245Z",
     "shell.execute_reply": "2021-01-15T10:18:22.979589Z"
    },
    "papermill": {
     "duration": 0.063802,
     "end_time": "2021-01-15T10:18:22.980374",
     "exception": false,
     "start_time": "2021-01-15T10:18:22.916572",
     "status": "completed"
    },
    "tags": []
   },
   "outputs": [
    {
     "data": {
      "text/html": [
       "<div>\n",
       "<style scoped>\n",
       "    .dataframe tbody tr th:only-of-type {\n",
       "        vertical-align: middle;\n",
       "    }\n",
       "\n",
       "    .dataframe tbody tr th {\n",
       "        vertical-align: top;\n",
       "    }\n",
       "\n",
       "    .dataframe thead th {\n",
       "        text-align: right;\n",
       "    }\n",
       "</style>\n",
       "<table border=\"1\" class=\"dataframe\">\n",
       "  <thead>\n",
       "    <tr style=\"text-align: right;\">\n",
       "      <th></th>\n",
       "      <th>PassengerId</th>\n",
       "      <th>Pclass</th>\n",
       "      <th>Age</th>\n",
       "      <th>SibSp</th>\n",
       "      <th>Parch</th>\n",
       "      <th>Fare</th>\n",
       "      <th>male</th>\n",
       "      <th>Q</th>\n",
       "      <th>S</th>\n",
       "    </tr>\n",
       "  </thead>\n",
       "  <tbody>\n",
       "    <tr>\n",
       "      <th>0</th>\n",
       "      <td>892</td>\n",
       "      <td>3</td>\n",
       "      <td>34.5</td>\n",
       "      <td>0</td>\n",
       "      <td>0</td>\n",
       "      <td>7.8292</td>\n",
       "      <td>1</td>\n",
       "      <td>1</td>\n",
       "      <td>0</td>\n",
       "    </tr>\n",
       "    <tr>\n",
       "      <th>1</th>\n",
       "      <td>893</td>\n",
       "      <td>3</td>\n",
       "      <td>47.0</td>\n",
       "      <td>1</td>\n",
       "      <td>0</td>\n",
       "      <td>7.0000</td>\n",
       "      <td>0</td>\n",
       "      <td>0</td>\n",
       "      <td>1</td>\n",
       "    </tr>\n",
       "    <tr>\n",
       "      <th>2</th>\n",
       "      <td>894</td>\n",
       "      <td>2</td>\n",
       "      <td>62.0</td>\n",
       "      <td>0</td>\n",
       "      <td>0</td>\n",
       "      <td>9.6875</td>\n",
       "      <td>1</td>\n",
       "      <td>1</td>\n",
       "      <td>0</td>\n",
       "    </tr>\n",
       "    <tr>\n",
       "      <th>3</th>\n",
       "      <td>895</td>\n",
       "      <td>3</td>\n",
       "      <td>27.0</td>\n",
       "      <td>0</td>\n",
       "      <td>0</td>\n",
       "      <td>8.6625</td>\n",
       "      <td>1</td>\n",
       "      <td>0</td>\n",
       "      <td>1</td>\n",
       "    </tr>\n",
       "    <tr>\n",
       "      <th>4</th>\n",
       "      <td>896</td>\n",
       "      <td>3</td>\n",
       "      <td>22.0</td>\n",
       "      <td>1</td>\n",
       "      <td>1</td>\n",
       "      <td>12.2875</td>\n",
       "      <td>0</td>\n",
       "      <td>0</td>\n",
       "      <td>1</td>\n",
       "    </tr>\n",
       "  </tbody>\n",
       "</table>\n",
       "</div>"
      ],
      "text/plain": [
       "   PassengerId  Pclass   Age  SibSp  Parch     Fare  male  Q  S\n",
       "0          892       3  34.5      0      0   7.8292     1  1  0\n",
       "1          893       3  47.0      1      0   7.0000     0  0  1\n",
       "2          894       2  62.0      0      0   9.6875     1  1  0\n",
       "3          895       3  27.0      0      0   8.6625     1  0  1\n",
       "4          896       3  22.0      1      1  12.2875     0  0  1"
      ]
     },
     "execution_count": 33,
     "metadata": {},
     "output_type": "execute_result"
    }
   ],
   "source": [
    "test.head()"
   ]
  },
  {
   "cell_type": "markdown",
   "metadata": {
    "papermill": {
     "duration": 0.048781,
     "end_time": "2021-01-15T10:18:23.079498",
     "exception": false,
     "start_time": "2021-01-15T10:18:23.030717",
     "status": "completed"
    },
    "tags": []
   },
   "source": [
    "## 4) Train and Build"
   ]
  },
  {
   "cell_type": "code",
   "execution_count": 34,
   "metadata": {
    "execution": {
     "iopub.execute_input": "2021-01-15T10:18:23.183917Z",
     "iopub.status.busy": "2021-01-15T10:18:23.183304Z",
     "iopub.status.idle": "2021-01-15T10:18:23.186176Z",
     "shell.execute_reply": "2021-01-15T10:18:23.185594Z"
    },
    "papermill": {
     "duration": 0.057988,
     "end_time": "2021-01-15T10:18:23.186275",
     "exception": false,
     "start_time": "2021-01-15T10:18:23.128287",
     "status": "completed"
    },
    "tags": []
   },
   "outputs": [],
   "source": [
    "X = train.drop('Survived',axis=1)\n",
    "y = train['Survived']"
   ]
  },
  {
   "cell_type": "code",
   "execution_count": 35,
   "metadata": {
    "execution": {
     "iopub.execute_input": "2021-01-15T10:18:23.288085Z",
     "iopub.status.busy": "2021-01-15T10:18:23.287282Z",
     "iopub.status.idle": "2021-01-15T10:18:23.398286Z",
     "shell.execute_reply": "2021-01-15T10:18:23.397659Z"
    },
    "papermill": {
     "duration": 0.163692,
     "end_time": "2021-01-15T10:18:23.398415",
     "exception": false,
     "start_time": "2021-01-15T10:18:23.234723",
     "status": "completed"
    },
    "tags": []
   },
   "outputs": [],
   "source": [
    "from sklearn.model_selection import train_test_split"
   ]
  },
  {
   "cell_type": "code",
   "execution_count": 36,
   "metadata": {
    "execution": {
     "iopub.execute_input": "2021-01-15T10:18:23.506674Z",
     "iopub.status.busy": "2021-01-15T10:18:23.505512Z",
     "iopub.status.idle": "2021-01-15T10:18:23.509304Z",
     "shell.execute_reply": "2021-01-15T10:18:23.509910Z"
    },
    "papermill": {
     "duration": 0.06145,
     "end_time": "2021-01-15T10:18:23.510048",
     "exception": false,
     "start_time": "2021-01-15T10:18:23.448598",
     "status": "completed"
    },
    "tags": []
   },
   "outputs": [],
   "source": [
    "X_train, X_test, y_train, y_test = train_test_split(X, y, test_size=0.3, random_state=101)"
   ]
  },
  {
   "cell_type": "code",
   "execution_count": 37,
   "metadata": {
    "execution": {
     "iopub.execute_input": "2021-01-15T10:18:23.619219Z",
     "iopub.status.busy": "2021-01-15T10:18:23.618496Z",
     "iopub.status.idle": "2021-01-15T10:18:23.701140Z",
     "shell.execute_reply": "2021-01-15T10:18:23.700593Z"
    },
    "papermill": {
     "duration": 0.138878,
     "end_time": "2021-01-15T10:18:23.701244",
     "exception": false,
     "start_time": "2021-01-15T10:18:23.562366",
     "status": "completed"
    },
    "tags": []
   },
   "outputs": [],
   "source": [
    "from sklearn.linear_model import LogisticRegression"
   ]
  },
  {
   "cell_type": "code",
   "execution_count": 38,
   "metadata": {
    "execution": {
     "iopub.execute_input": "2021-01-15T10:18:23.808404Z",
     "iopub.status.busy": "2021-01-15T10:18:23.805272Z",
     "iopub.status.idle": "2021-01-15T10:18:23.853668Z",
     "shell.execute_reply": "2021-01-15T10:18:23.854368Z"
    },
    "papermill": {
     "duration": 0.10326,
     "end_time": "2021-01-15T10:18:23.854529",
     "exception": false,
     "start_time": "2021-01-15T10:18:23.751269",
     "status": "completed"
    },
    "tags": []
   },
   "outputs": [
    {
     "name": "stderr",
     "output_type": "stream",
     "text": [
      "/opt/conda/lib/python3.7/site-packages/sklearn/linear_model/_logistic.py:764: ConvergenceWarning: lbfgs failed to converge (status=1):\n",
      "STOP: TOTAL NO. of ITERATIONS REACHED LIMIT.\n",
      "\n",
      "Increase the number of iterations (max_iter) or scale the data as shown in:\n",
      "    https://scikit-learn.org/stable/modules/preprocessing.html\n",
      "Please also refer to the documentation for alternative solver options:\n",
      "    https://scikit-learn.org/stable/modules/linear_model.html#logistic-regression\n",
      "  extra_warning_msg=_LOGISTIC_SOLVER_CONVERGENCE_MSG)\n"
     ]
    },
    {
     "data": {
      "text/plain": [
       "LogisticRegression()"
      ]
     },
     "execution_count": 38,
     "metadata": {},
     "output_type": "execute_result"
    }
   ],
   "source": [
    "logmodel = LogisticRegression()\n",
    "logmodel.fit(X_train,y_train)"
   ]
  },
  {
   "cell_type": "code",
   "execution_count": 39,
   "metadata": {
    "execution": {
     "iopub.execute_input": "2021-01-15T10:18:23.966747Z",
     "iopub.status.busy": "2021-01-15T10:18:23.965765Z",
     "iopub.status.idle": "2021-01-15T10:18:23.971475Z",
     "shell.execute_reply": "2021-01-15T10:18:23.970973Z"
    },
    "papermill": {
     "duration": 0.06508,
     "end_time": "2021-01-15T10:18:23.971579",
     "exception": false,
     "start_time": "2021-01-15T10:18:23.906499",
     "status": "completed"
    },
    "tags": []
   },
   "outputs": [
    {
     "data": {
      "text/plain": [
       "0.8006430868167203"
      ]
     },
     "execution_count": 39,
     "metadata": {},
     "output_type": "execute_result"
    }
   ],
   "source": [
    "logmodel.score(X_train,y_train)"
   ]
  },
  {
   "cell_type": "code",
   "execution_count": 40,
   "metadata": {
    "execution": {
     "iopub.execute_input": "2021-01-15T10:18:24.080290Z",
     "iopub.status.busy": "2021-01-15T10:18:24.079684Z",
     "iopub.status.idle": "2021-01-15T10:18:24.083443Z",
     "shell.execute_reply": "2021-01-15T10:18:24.083986Z"
    },
    "papermill": {
     "duration": 0.061316,
     "end_time": "2021-01-15T10:18:24.084123",
     "exception": false,
     "start_time": "2021-01-15T10:18:24.022807",
     "status": "completed"
    },
    "tags": []
   },
   "outputs": [
    {
     "data": {
      "text/plain": [
       "0.8314606741573034"
      ]
     },
     "execution_count": 40,
     "metadata": {},
     "output_type": "execute_result"
    }
   ],
   "source": [
    "logmodel.score(X_test,y_test)"
   ]
  },
  {
   "cell_type": "markdown",
   "metadata": {
    "papermill": {
     "duration": 0.051527,
     "end_time": "2021-01-15T10:18:24.188013",
     "exception": false,
     "start_time": "2021-01-15T10:18:24.136486",
     "status": "completed"
    },
    "tags": []
   },
   "source": [
    "## 5) Making Prediction"
   ]
  },
  {
   "cell_type": "code",
   "execution_count": 41,
   "metadata": {
    "execution": {
     "iopub.execute_input": "2021-01-15T10:18:24.290935Z",
     "iopub.status.busy": "2021-01-15T10:18:24.290338Z",
     "iopub.status.idle": "2021-01-15T10:18:24.295670Z",
     "shell.execute_reply": "2021-01-15T10:18:24.295079Z"
    },
    "papermill": {
     "duration": 0.057154,
     "end_time": "2021-01-15T10:18:24.295767",
     "exception": false,
     "start_time": "2021-01-15T10:18:24.238613",
     "status": "completed"
    },
    "tags": []
   },
   "outputs": [],
   "source": [
    "test_x = test.drop('PassengerId',axis=1)"
   ]
  },
  {
   "cell_type": "code",
   "execution_count": 42,
   "metadata": {
    "execution": {
     "iopub.execute_input": "2021-01-15T10:18:24.403213Z",
     "iopub.status.busy": "2021-01-15T10:18:24.402596Z",
     "iopub.status.idle": "2021-01-15T10:18:24.405421Z",
     "shell.execute_reply": "2021-01-15T10:18:24.405866Z"
    },
    "papermill": {
     "duration": 0.059971,
     "end_time": "2021-01-15T10:18:24.405995",
     "exception": false,
     "start_time": "2021-01-15T10:18:24.346024",
     "status": "completed"
    },
    "tags": []
   },
   "outputs": [],
   "source": [
    "predictions = logmodel.predict(test_x)"
   ]
  },
  {
   "cell_type": "code",
   "execution_count": 43,
   "metadata": {
    "execution": {
     "iopub.execute_input": "2021-01-15T10:18:24.512563Z",
     "iopub.status.busy": "2021-01-15T10:18:24.511647Z",
     "iopub.status.idle": "2021-01-15T10:18:24.516451Z",
     "shell.execute_reply": "2021-01-15T10:18:24.516929Z"
    },
    "papermill": {
     "duration": 0.059829,
     "end_time": "2021-01-15T10:18:24.517052",
     "exception": false,
     "start_time": "2021-01-15T10:18:24.457223",
     "status": "completed"
    },
    "tags": []
   },
   "outputs": [],
   "source": [
    "final_prediction = pd.DataFrame({'PassengerId':test['PassengerId'],'Survived':predictions})"
   ]
  },
  {
   "cell_type": "code",
   "execution_count": 44,
   "metadata": {
    "execution": {
     "iopub.execute_input": "2021-01-15T10:18:24.630167Z",
     "iopub.status.busy": "2021-01-15T10:18:24.629184Z",
     "iopub.status.idle": "2021-01-15T10:18:24.634168Z",
     "shell.execute_reply": "2021-01-15T10:18:24.633560Z"
    },
    "papermill": {
     "duration": 0.065576,
     "end_time": "2021-01-15T10:18:24.634279",
     "exception": false,
     "start_time": "2021-01-15T10:18:24.568703",
     "status": "completed"
    },
    "tags": []
   },
   "outputs": [
    {
     "data": {
      "text/html": [
       "<div>\n",
       "<style scoped>\n",
       "    .dataframe tbody tr th:only-of-type {\n",
       "        vertical-align: middle;\n",
       "    }\n",
       "\n",
       "    .dataframe tbody tr th {\n",
       "        vertical-align: top;\n",
       "    }\n",
       "\n",
       "    .dataframe thead th {\n",
       "        text-align: right;\n",
       "    }\n",
       "</style>\n",
       "<table border=\"1\" class=\"dataframe\">\n",
       "  <thead>\n",
       "    <tr style=\"text-align: right;\">\n",
       "      <th></th>\n",
       "      <th>PassengerId</th>\n",
       "      <th>Survived</th>\n",
       "    </tr>\n",
       "  </thead>\n",
       "  <tbody>\n",
       "    <tr>\n",
       "      <th>0</th>\n",
       "      <td>892</td>\n",
       "      <td>0</td>\n",
       "    </tr>\n",
       "    <tr>\n",
       "      <th>1</th>\n",
       "      <td>893</td>\n",
       "      <td>0</td>\n",
       "    </tr>\n",
       "    <tr>\n",
       "      <th>2</th>\n",
       "      <td>894</td>\n",
       "      <td>0</td>\n",
       "    </tr>\n",
       "    <tr>\n",
       "      <th>3</th>\n",
       "      <td>895</td>\n",
       "      <td>0</td>\n",
       "    </tr>\n",
       "    <tr>\n",
       "      <th>4</th>\n",
       "      <td>896</td>\n",
       "      <td>1</td>\n",
       "    </tr>\n",
       "  </tbody>\n",
       "</table>\n",
       "</div>"
      ],
      "text/plain": [
       "   PassengerId  Survived\n",
       "0          892         0\n",
       "1          893         0\n",
       "2          894         0\n",
       "3          895         0\n",
       "4          896         1"
      ]
     },
     "execution_count": 44,
     "metadata": {},
     "output_type": "execute_result"
    }
   ],
   "source": [
    "final_prediction.head()"
   ]
  },
  {
   "cell_type": "code",
   "execution_count": 45,
   "metadata": {
    "execution": {
     "iopub.execute_input": "2021-01-15T10:18:24.743867Z",
     "iopub.status.busy": "2021-01-15T10:18:24.743286Z",
     "iopub.status.idle": "2021-01-15T10:18:25.003704Z",
     "shell.execute_reply": "2021-01-15T10:18:25.004228Z"
    },
    "papermill": {
     "duration": 0.31772,
     "end_time": "2021-01-15T10:18:25.004360",
     "exception": false,
     "start_time": "2021-01-15T10:18:24.686640",
     "status": "completed"
    },
    "tags": []
   },
   "outputs": [],
   "source": [
    "final_prediction.to_csv('submission.csv', index=False)"
   ]
  },
  {
   "cell_type": "code",
   "execution_count": 46,
   "metadata": {
    "execution": {
     "iopub.execute_input": "2021-01-15T10:18:25.114706Z",
     "iopub.status.busy": "2021-01-15T10:18:25.114065Z",
     "iopub.status.idle": "2021-01-15T10:18:25.118663Z",
     "shell.execute_reply": "2021-01-15T10:18:25.119536Z"
    },
    "papermill": {
     "duration": 0.062503,
     "end_time": "2021-01-15T10:18:25.119782",
     "exception": false,
     "start_time": "2021-01-15T10:18:25.057279",
     "status": "completed"
    },
    "tags": []
   },
   "outputs": [
    {
     "name": "stdout",
     "output_type": "stream",
     "text": [
      "Your submission was successfully saved!\n"
     ]
    }
   ],
   "source": [
    "print(\"Your submission was successfully saved!\")"
   ]
  },
  {
   "cell_type": "code",
   "execution_count": null,
   "metadata": {
    "papermill": {
     "duration": 0.052425,
     "end_time": "2021-01-15T10:18:25.228270",
     "exception": false,
     "start_time": "2021-01-15T10:18:25.175845",
     "status": "completed"
    },
    "tags": []
   },
   "outputs": [],
   "source": []
  }
 ],
 "metadata": {
  "kernelspec": {
   "display_name": "Python 3",
   "language": "python",
   "name": "python3"
  },
  "language_info": {
   "codemirror_mode": {
    "name": "ipython",
    "version": 3
   },
   "file_extension": ".py",
   "mimetype": "text/x-python",
   "name": "python",
   "nbconvert_exporter": "python",
   "pygments_lexer": "ipython3",
   "version": "3.7.6"
  },
  "papermill": {
   "duration": 13.651504,
   "end_time": "2021-01-15T10:18:25.386806",
   "environment_variables": {},
   "exception": null,
   "input_path": "__notebook__.ipynb",
   "output_path": "__notebook__.ipynb",
   "parameters": {},
   "start_time": "2021-01-15T10:18:11.735302",
   "version": "2.1.0"
  }
 },
 "nbformat": 4,
 "nbformat_minor": 4
}
